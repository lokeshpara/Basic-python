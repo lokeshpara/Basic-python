{
 "cells": [
  {
   "cell_type": "markdown",
   "metadata": {},
   "source": [
    "# PYTHON NUMBERS\n",
    "## Fundamental Data Types\n",
    "### Integers\n",
    "### Float\n"
   ]
  },
  {
   "cell_type": "markdown",
   "metadata": {},
   "source": [
    "## Adding two numbers"
   ]
  },
  {
   "cell_type": "code",
   "execution_count": 55,
   "metadata": {},
   "outputs": [
    {
     "data": {
      "text/plain": [
       "3"
      ]
     },
     "execution_count": 55,
     "metadata": {},
     "output_type": "execute_result"
    }
   ],
   "source": [
    "a=2   \n",
    "b=1\n",
    "a+b"
   ]
  },
  {
   "cell_type": "markdown",
   "metadata": {},
   "source": [
    "## Storing the result in a variable"
   ]
  },
  {
   "cell_type": "code",
   "execution_count": 56,
   "metadata": {},
   "outputs": [],
   "source": [
    "c=a+b      # The result store in the variable \"c\" "
   ]
  },
  {
   "cell_type": "code",
   "execution_count": 57,
   "metadata": {},
   "outputs": [
    {
     "data": {
      "text/plain": [
       "3"
      ]
     },
     "execution_count": 57,
     "metadata": {},
     "output_type": "execute_result"
    }
   ],
   "source": [
    "c           # We call the \"c\" variable"
   ]
  },
  {
   "cell_type": "markdown",
   "metadata": {},
   "source": [
    "## To find which type the result"
   ]
  },
  {
   "cell_type": "code",
   "execution_count": 58,
   "metadata": {},
   "outputs": [
    {
     "data": {
      "text/plain": [
       "int"
      ]
     },
     "execution_count": 58,
     "metadata": {},
     "output_type": "execute_result"
    }
   ],
   "source": [
    "type(c)         # To check the value in variable \"c\" is which type like whether it is integer,float,string or boolean "
   ]
  },
  {
   "cell_type": "markdown",
   "metadata": {},
   "source": [
    "## Now let user decide which two numbers should add "
   ]
  },
  {
   "cell_type": "code",
   "execution_count": 60,
   "metadata": {
    "scrolled": true
   },
   "outputs": [
    {
     "name": "stdout",
     "output_type": "stream",
     "text": [
      "enter the integer value for a:4\n",
      "enter the integer value for b:4\n",
      "a+b is: 8\n",
      "the a value is in the type of: <class 'int'>\n",
      "the b value is in the type of: <class 'int'>\n",
      "the result value is in the type of: <class 'int'>\n"
     ]
    }
   ],
   "source": [
    "a=int(input(\"enter the integer value for a:\"))  # User allow to give input in the form of integer the value store in variable \"a\"\n",
    "b=int(input(\"enter the integer value for b:\"))  # User allow to give input in the form of integer the value store in variable \"b\"\n",
    "c=a+b                                           \n",
    "print(\"a+b is:\",c)\n",
    "print(\"the a value is in the type of:\",type(a))       # To check the value in variable \"a\" \n",
    "print(\"the b value is in the type of:\",type(b))       # To check the value in variable \"b\" \n",
    "print(\"the result value is in the type of:\",type(c))   # To check the value in variable \"c\" "
   ]
  },
  {
   "cell_type": "markdown",
   "metadata": {},
   "source": [
    "## Now if we give words (or) floating points as input for above code . It shows error because we declare the input should be a integer . So the input allows only intergers "
   ]
  },
  {
   "cell_type": "code",
   "execution_count": 61,
   "metadata": {},
   "outputs": [
    {
     "name": "stdout",
     "output_type": "stream",
     "text": [
      "enter the integer value for a:vsaf\n"
     ]
    },
    {
     "ename": "ValueError",
     "evalue": "invalid literal for int() with base 10: 'vsaf'",
     "output_type": "error",
     "traceback": [
      "\u001b[1;31m---------------------------------------------------------------------------\u001b[0m",
      "\u001b[1;31mValueError\u001b[0m                                Traceback (most recent call last)",
      "\u001b[1;32m<ipython-input-61-bf2219fb50f2>\u001b[0m in \u001b[0;36m<module>\u001b[1;34m\u001b[0m\n\u001b[1;32m----> 1\u001b[1;33m \u001b[0ma\u001b[0m\u001b[1;33m=\u001b[0m\u001b[0mint\u001b[0m\u001b[1;33m(\u001b[0m\u001b[0minput\u001b[0m\u001b[1;33m(\u001b[0m\u001b[1;34m\"enter the integer value for a:\"\u001b[0m\u001b[1;33m)\u001b[0m\u001b[1;33m)\u001b[0m\u001b[1;33m\u001b[0m\u001b[1;33m\u001b[0m\u001b[0m\n\u001b[0m\u001b[0;32m      2\u001b[0m \u001b[0mb\u001b[0m\u001b[1;33m=\u001b[0m\u001b[0mint\u001b[0m\u001b[1;33m(\u001b[0m\u001b[0minput\u001b[0m\u001b[1;33m(\u001b[0m\u001b[1;34m\"enter the integer value for b:\"\u001b[0m\u001b[1;33m)\u001b[0m\u001b[1;33m)\u001b[0m\u001b[1;33m\u001b[0m\u001b[1;33m\u001b[0m\u001b[0m\n\u001b[0;32m      3\u001b[0m \u001b[0mc\u001b[0m\u001b[1;33m=\u001b[0m\u001b[0ma\u001b[0m\u001b[1;33m+\u001b[0m\u001b[0mb\u001b[0m\u001b[1;33m\u001b[0m\u001b[1;33m\u001b[0m\u001b[0m\n\u001b[0;32m      4\u001b[0m \u001b[0mprint\u001b[0m\u001b[1;33m(\u001b[0m\u001b[1;34m\"a+b is:\"\u001b[0m\u001b[1;33m,\u001b[0m\u001b[0mc\u001b[0m\u001b[1;33m)\u001b[0m\u001b[1;33m\u001b[0m\u001b[1;33m\u001b[0m\u001b[0m\n\u001b[0;32m      5\u001b[0m \u001b[0mprint\u001b[0m\u001b[1;33m(\u001b[0m\u001b[1;34m\"the a value is in the type of:\"\u001b[0m\u001b[1;33m,\u001b[0m\u001b[0mtype\u001b[0m\u001b[1;33m(\u001b[0m\u001b[0ma\u001b[0m\u001b[1;33m)\u001b[0m\u001b[1;33m)\u001b[0m\u001b[1;33m\u001b[0m\u001b[1;33m\u001b[0m\u001b[0m\n",
      "\u001b[1;31mValueError\u001b[0m: invalid literal for int() with base 10: 'vsaf'"
     ]
    }
   ],
   "source": [
    "a=int(input(\"enter the integer value for a:\"))    \n",
    "b=int(input(\"enter the integer value for b:\"))\n",
    "c=a+b\n",
    "print(\"a+b is:\",c)\n",
    "print(\"the a value is in the type of:\",type(a))\n",
    "print(\"the b value is in the type of:\",type(b))\n",
    "print(\"the result value is in the type of:\",type(c))"
   ]
  },
  {
   "cell_type": "code",
   "execution_count": 48,
   "metadata": {},
   "outputs": [
    {
     "name": "stdout",
     "output_type": "stream",
     "text": [
      "enter the integer value for a:34.3\n"
     ]
    },
    {
     "ename": "ValueError",
     "evalue": "invalid literal for int() with base 10: '34.3'",
     "output_type": "error",
     "traceback": [
      "\u001b[1;31m---------------------------------------------------------------------------\u001b[0m",
      "\u001b[1;31mValueError\u001b[0m                                Traceback (most recent call last)",
      "\u001b[1;32m<ipython-input-48-bf2219fb50f2>\u001b[0m in \u001b[0;36m<module>\u001b[1;34m\u001b[0m\n\u001b[1;32m----> 1\u001b[1;33m \u001b[0ma\u001b[0m\u001b[1;33m=\u001b[0m\u001b[0mint\u001b[0m\u001b[1;33m(\u001b[0m\u001b[0minput\u001b[0m\u001b[1;33m(\u001b[0m\u001b[1;34m\"enter the integer value for a:\"\u001b[0m\u001b[1;33m)\u001b[0m\u001b[1;33m)\u001b[0m\u001b[1;33m\u001b[0m\u001b[1;33m\u001b[0m\u001b[0m\n\u001b[0m\u001b[0;32m      2\u001b[0m \u001b[0mb\u001b[0m\u001b[1;33m=\u001b[0m\u001b[0mint\u001b[0m\u001b[1;33m(\u001b[0m\u001b[0minput\u001b[0m\u001b[1;33m(\u001b[0m\u001b[1;34m\"enter the integer value for b:\"\u001b[0m\u001b[1;33m)\u001b[0m\u001b[1;33m)\u001b[0m\u001b[1;33m\u001b[0m\u001b[1;33m\u001b[0m\u001b[0m\n\u001b[0;32m      3\u001b[0m \u001b[0mc\u001b[0m\u001b[1;33m=\u001b[0m\u001b[0ma\u001b[0m\u001b[1;33m+\u001b[0m\u001b[0mb\u001b[0m\u001b[1;33m\u001b[0m\u001b[1;33m\u001b[0m\u001b[0m\n\u001b[0;32m      4\u001b[0m \u001b[0mprint\u001b[0m\u001b[1;33m(\u001b[0m\u001b[1;34m\"a+b is:\"\u001b[0m\u001b[1;33m,\u001b[0m\u001b[0mc\u001b[0m\u001b[1;33m)\u001b[0m\u001b[1;33m\u001b[0m\u001b[1;33m\u001b[0m\u001b[0m\n\u001b[0;32m      5\u001b[0m \u001b[0mprint\u001b[0m\u001b[1;33m(\u001b[0m\u001b[1;34m\"the a value is in the type of:\"\u001b[0m\u001b[1;33m,\u001b[0m\u001b[0mtype\u001b[0m\u001b[1;33m(\u001b[0m\u001b[0ma\u001b[0m\u001b[1;33m)\u001b[0m\u001b[1;33m)\u001b[0m\u001b[1;33m\u001b[0m\u001b[1;33m\u001b[0m\u001b[0m\n",
      "\u001b[1;31mValueError\u001b[0m: invalid literal for int() with base 10: '34.3'"
     ]
    }
   ],
   "source": [
    "a=int(input(\"enter the integer value for a:\"))\n",
    "b=int(input(\"enter the integer value for b:\"))\n",
    "c=a+b\n",
    "print(\"a+b is:\",c)\n",
    "print(\"the a value is in the type of:\",type(a))\n",
    "print(\"the b value is in the type of:\",type(b))\n",
    "print(\"the result value is in the type of:\",type(c))"
   ]
  },
  {
   "cell_type": "markdown",
   "metadata": {},
   "source": [
    "## To add floating point (or) integer numbers. We need to declare float . So the output will be float"
   ]
  },
  {
   "cell_type": "code",
   "execution_count": 49,
   "metadata": {},
   "outputs": [
    {
     "name": "stdout",
     "output_type": "stream",
     "text": [
      "enter the integer value for a:44.5\n",
      "enter the integer value for b:44.5\n",
      "a+b is: 89.0\n",
      "the a value is in the type of: <class 'float'>\n",
      "the b value is in the type of: <class 'float'>\n",
      "the result value is in the type of: <class 'float'>\n"
     ]
    }
   ],
   "source": [
    "a=float(input(\"enter the integer value for a:\"))\n",
    "b=float(input(\"enter the integer value for b:\"))\n",
    "c=a+b\n",
    "print(\"a+b is:\",c)\n",
    "print(\"the a value is in the type of:\",type(a))\n",
    "print(\"the b value is in the type of:\",type(b))\n",
    "print(\"the result value is in the type of:\",type(c))"
   ]
  },
  {
   "cell_type": "markdown",
   "metadata": {},
   "source": [
    "## Same for subtraction,Multiplication,Division and modulo operators"
   ]
  },
  {
   "cell_type": "code",
   "execution_count": 50,
   "metadata": {},
   "outputs": [
    {
     "name": "stdout",
     "output_type": "stream",
     "text": [
      "enter the integer value for a:44\n",
      "enter the integer value for b:45\n",
      "a-b is: -1.0\n",
      "the a value is in the type of: <class 'float'>\n",
      "the b value is in the type of: <class 'float'>\n",
      "the result value is in the type of: <class 'float'>\n"
     ]
    }
   ],
   "source": [
    "a=float(input(\"enter the integer value for a:\"))\n",
    "b=float(input(\"enter the integer value for b:\"))\n",
    "c=a-b\n",
    "print(\"a-b is:\",c)\n",
    "print(\"the a value is in the type of:\",type(a))\n",
    "print(\"the b value is in the type of:\",type(b))\n",
    "print(\"the result value is in the type of:\",type(c))"
   ]
  },
  {
   "cell_type": "code",
   "execution_count": 51,
   "metadata": {},
   "outputs": [
    {
     "name": "stdout",
     "output_type": "stream",
     "text": [
      "enter the integer value for a:5\n",
      "enter the integer value for b:5\n",
      "a*b is: 25.0\n",
      "the a value is in the type of: <class 'float'>\n",
      "the b value is in the type of: <class 'float'>\n",
      "the result value is in the type of: <class 'float'>\n"
     ]
    }
   ],
   "source": [
    "a=float(input(\"enter the integer value for a:\"))\n",
    "b=float(input(\"enter the integer value for b:\"))\n",
    "c=a*b\n",
    "print(\"a*b is:\",c)\n",
    "print(\"the a value is in the type of:\",type(a))\n",
    "print(\"the b value is in the type of:\",type(b))\n",
    "print(\"the result value is in the type of:\",type(c))"
   ]
  },
  {
   "cell_type": "code",
   "execution_count": 52,
   "metadata": {},
   "outputs": [
    {
     "name": "stdout",
     "output_type": "stream",
     "text": [
      "enter the integer value for a:6\n",
      "enter the integer value for b:3\n",
      "a/b is: 2.0\n",
      "the a value is in the type of: <class 'float'>\n",
      "the b value is in the type of: <class 'float'>\n",
      "the result value is in the type of: <class 'float'>\n"
     ]
    }
   ],
   "source": [
    "a=float(input(\"enter the integer value for a:\"))\n",
    "b=float(input(\"enter the integer value for b:\"))\n",
    "c=a/b\n",
    "print(\"a/b is:\",c)\n",
    "print(\"the a value is in the type of:\",type(a))\n",
    "print(\"the b value is in the type of:\",type(b))\n",
    "print(\"the result value is in the type of:\",type(c))"
   ]
  },
  {
   "cell_type": "code",
   "execution_count": 53,
   "metadata": {},
   "outputs": [
    {
     "name": "stdout",
     "output_type": "stream",
     "text": [
      "enter the integer value for a:6\n",
      "enter the integer value for b:4\n",
      "a%b is: 2.0\n",
      "the a value is in the type of: <class 'float'>\n",
      "the b value is in the type of: <class 'float'>\n",
      "the result value is in the type of: <class 'float'>\n"
     ]
    }
   ],
   "source": [
    "a=float(input(\"enter the integer value for a:\"))\n",
    "b=float(input(\"enter the integer value for b:\"))\n",
    "c=a%b\n",
    "print(\"a%b is:\",c)\n",
    "print(\"the a value is in the type of:\",type(a))\n",
    "print(\"the b value is in the type of:\",type(b))\n",
    "print(\"the result value is in the type of:\",type(c))"
   ]
  },
  {
   "cell_type": "markdown",
   "metadata": {},
   "source": [
    "## pow "
   ]
  },
  {
   "cell_type": "code",
   "execution_count": 54,
   "metadata": {},
   "outputs": [
    {
     "name": "stdout",
     "output_type": "stream",
     "text": [
      "enter the integer value for a:3\n",
      "enter the integer value for b:2\n",
      "a**b is: 9.0\n",
      "the a value is in the type of: <class 'float'>\n",
      "the b value is in the type of: <class 'float'>\n",
      "the result value is in the type of: <class 'float'>\n"
     ]
    }
   ],
   "source": [
    "a=float(input(\"enter the integer value for a:\"))\n",
    "b=float(input(\"enter the integer value for b:\"))\n",
    "c=a**b\n",
    "print(\"a**b is:\",c)\n",
    "print(\"the a value is in the type of:\",type(a))\n",
    "print(\"the b value is in the type of:\",type(b))\n",
    "print(\"the result value is in the type of:\",type(c))"
   ]
  },
  {
   "cell_type": "markdown",
   "metadata": {},
   "source": [
    "## we can do in this way to "
   ]
  },
  {
   "cell_type": "code",
   "execution_count": 23,
   "metadata": {},
   "outputs": [
    {
     "data": {
      "text/plain": [
       "6"
      ]
     },
     "execution_count": 23,
     "metadata": {},
     "output_type": "execute_result"
    }
   ],
   "source": [
    "3+3"
   ]
  },
  {
   "cell_type": "code",
   "execution_count": 24,
   "metadata": {},
   "outputs": [
    {
     "data": {
      "text/plain": [
       "-2"
      ]
     },
     "execution_count": 24,
     "metadata": {},
     "output_type": "execute_result"
    }
   ],
   "source": [
    "3-5"
   ]
  },
  {
   "cell_type": "code",
   "execution_count": 25,
   "metadata": {},
   "outputs": [
    {
     "data": {
      "text/plain": [
       "68"
      ]
     },
     "execution_count": 25,
     "metadata": {},
     "output_type": "execute_result"
    }
   ],
   "source": [
    "2*34"
   ]
  },
  {
   "cell_type": "code",
   "execution_count": 26,
   "metadata": {},
   "outputs": [
    {
     "data": {
      "text/plain": [
       "0.6"
      ]
     },
     "execution_count": 26,
     "metadata": {},
     "output_type": "execute_result"
    }
   ],
   "source": [
    "3/5"
   ]
  },
  {
   "cell_type": "code",
   "execution_count": 27,
   "metadata": {},
   "outputs": [
    {
     "data": {
      "text/plain": [
       "2"
      ]
     },
     "execution_count": 27,
     "metadata": {},
     "output_type": "execute_result"
    }
   ],
   "source": [
    "23%3"
   ]
  },
  {
   "cell_type": "code",
   "execution_count": 28,
   "metadata": {},
   "outputs": [
    {
     "data": {
      "text/plain": [
       "9"
      ]
     },
     "execution_count": 28,
     "metadata": {},
     "output_type": "execute_result"
    }
   ],
   "source": [
    "3**2"
   ]
  },
  {
   "cell_type": "markdown",
   "metadata": {},
   "source": [
    "## We can do all operators at a time "
   ]
  },
  {
   "cell_type": "code",
   "execution_count": 32,
   "metadata": {},
   "outputs": [],
   "source": [
    "d=(((2+2)*(3-2))**2)/2"
   ]
  },
  {
   "cell_type": "code",
   "execution_count": 33,
   "metadata": {},
   "outputs": [
    {
     "data": {
      "text/plain": [
       "8.0"
      ]
     },
     "execution_count": 33,
     "metadata": {},
     "output_type": "execute_result"
    }
   ],
   "source": [
    "d"
   ]
  },
  {
   "cell_type": "code",
   "execution_count": 34,
   "metadata": {},
   "outputs": [
    {
     "data": {
      "text/plain": [
       "0.0"
      ]
     },
     "execution_count": 34,
     "metadata": {},
     "output_type": "execute_result"
    }
   ],
   "source": [
    "d%2"
   ]
  },
  {
   "cell_type": "code",
   "execution_count": 37,
   "metadata": {},
   "outputs": [
    {
     "data": {
      "text/plain": [
       "'3.7.4 (default, Aug  9 2019, 18:34:13) [MSC v.1915 64 bit (AMD64)]'"
      ]
     },
     "execution_count": 37,
     "metadata": {},
     "output_type": "execute_result"
    }
   ],
   "source": [
    "import sys   # To check which python version are you using\n",
    "sys.version"
   ]
  },
  {
   "cell_type": "markdown",
   "metadata": {},
   "source": [
    "# Math Functions\n",
    "https://www.programiz.com/python-programming/modules/math"
   ]
  },
  {
   "cell_type": "markdown",
   "metadata": {},
   "source": [
    "# To get binary numbers"
   ]
  },
  {
   "cell_type": "code",
   "execution_count": 79,
   "metadata": {},
   "outputs": [
    {
     "data": {
      "text/plain": [
       "'0b101'"
      ]
     },
     "execution_count": 79,
     "metadata": {},
     "output_type": "execute_result"
    }
   ],
   "source": [
    "bin(5)"
   ]
  },
  {
   "cell_type": "code",
   "execution_count": 72,
   "metadata": {},
   "outputs": [
    {
     "name": "stdout",
     "output_type": "stream",
     "text": [
      "enter a number:5\n",
      "0b101\n",
      "<class 'str'>\n"
     ]
    }
   ],
   "source": [
    "a=bin(int(input(\"enter a number:\")))\n",
    "print(a)\n",
    "print(type(a))"
   ]
  },
  {
   "cell_type": "markdown",
   "metadata": {},
   "source": [
    "## To convert binary to int "
   ]
  },
  {
   "cell_type": "code",
   "execution_count": 73,
   "metadata": {},
   "outputs": [
    {
     "name": "stdout",
     "output_type": "stream",
     "text": [
      "5\n",
      "<class 'int'>\n"
     ]
    }
   ],
   "source": [
    "a=int(\"0b101\",2)\n",
    "print(a)\n",
    "print(type(a))"
   ]
  },
  {
   "cell_type": "markdown",
   "metadata": {},
   "source": [
    "## Same for octadecimal ,hexadecimal "
   ]
  },
  {
   "cell_type": "code",
   "execution_count": 90,
   "metadata": {},
   "outputs": [
    {
     "name": "stdout",
     "output_type": "stream",
     "text": [
      "44\n",
      "<class 'int'>\n"
     ]
    }
   ],
   "source": [
    "oct(44)\n",
    "a=int('0o54',8)\n",
    "print(a)\n",
    "print(type(a))"
   ]
  },
  {
   "cell_type": "code",
   "execution_count": 93,
   "metadata": {},
   "outputs": [
    {
     "name": "stdout",
     "output_type": "stream",
     "text": [
      "44\n",
      "<class 'int'>\n"
     ]
    }
   ],
   "source": [
    "hex(44)\n",
    "a=int('0x2c',16)\n",
    "print(a)\n",
    "print(type(a))"
   ]
  },
  {
   "cell_type": "code",
   "execution_count": null,
   "metadata": {},
   "outputs": [],
   "source": []
  }
 ],
 "metadata": {
  "kernelspec": {
   "display_name": "Python 3",
   "language": "python",
   "name": "python3"
  },
  "language_info": {
   "codemirror_mode": {
    "name": "ipython",
    "version": 3
   },
   "file_extension": ".py",
   "mimetype": "text/x-python",
   "name": "python",
   "nbconvert_exporter": "python",
   "pygments_lexer": "ipython3",
   "version": "3.7.4"
  }
 },
 "nbformat": 4,
 "nbformat_minor": 2
}
