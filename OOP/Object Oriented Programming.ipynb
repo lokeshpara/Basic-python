{
 "cells": [
  {
   "cell_type": "markdown",
   "metadata": {},
   "source": [
    "# What is OOP ?"
   ]
  },
  {
   "cell_type": "code",
   "execution_count": 2,
   "metadata": {
    "scrolled": false
   },
   "outputs": [
    {
     "data": {
      "text/html": [
       "<img src=\"https://scontent-xsp1-2.xx.fbcdn.net/v/t1.0-9/94141355_1015955338798149_2754495159809867776_o.jpg?_nc_cat=106&_nc_sid=8024bb&_nc_ohc=VvBTmR67OhgAX-pNk8m&_nc_ht=scontent-xsp1-2.xx&oh=03e6321727cd2ba3af626d2cd52fbb94&oe=5EC17156\" width=\"900\" height=\"300\"/>"
      ],
      "text/plain": [
       "<IPython.core.display.Image object>"
      ]
     },
     "metadata": {},
     "output_type": "display_data"
    }
   ],
   "source": [
    "from IPython.core.display import Image, display\n",
    "display(Image(url= \"https://scontent-xsp1-2.xx.fbcdn.net/v/t1.0-9/94141355_1015955338798149_2754495159809867776_o.jpg?_nc_cat=106&_nc_sid=8024bb&_nc_ohc=VvBTmR67OhgAX-pNk8m&_nc_ht=scontent-xsp1-2.xx&oh=03e6321727cd2ba3af626d2cd52fbb94&oe=5EC17156\", width=900, height=300))"
   ]
  },
  {
   "cell_type": "markdown",
   "metadata": {},
   "source": [
    "# History of programming language\n",
    "# https://en.wikipedia.org/wiki/History_of_programming_languages"
   ]
  },
  {
   "cell_type": "code",
   "execution_count": 33,
   "metadata": {},
   "outputs": [],
   "source": [
    "class BigObject:\n",
    "    pass\n",
    "obj1 = BigObject()"
   ]
  },
  {
   "cell_type": "markdown",
   "metadata": {},
   "source": [
    "## Class is a Blue print\n",
    "## Class is instantiate that means action of creating different instances(Objects)"
   ]
  },
  {
   "cell_type": "code",
   "execution_count": 58,
   "metadata": {},
   "outputs": [
    {
     "data": {
      "text/html": [
       "<img src=\"https://scontent-xsp1-2.xx.fbcdn.net/v/t1.0-9/94104751_1015511115509238_3301741359882305536_n.jpg?_nc_cat=106&_nc_sid=8024bb&_nc_ohc=XZ3N-vVt-jQAX-4a2ot&_nc_ht=scontent-xsp1-2.xx&oh=bdbf0f608b96a20ccbe756a30c957ed6&oe=5EBFBBD5\" width=\"900\" height=\"300\"/>"
      ],
      "text/plain": [
       "<IPython.core.display.Image object>"
      ]
     },
     "metadata": {},
     "output_type": "display_data"
    }
   ],
   "source": [
    "display(Image(url= \"https://scontent-xsp1-2.xx.fbcdn.net/v/t1.0-9/94104751_1015511115509238_3301741359882305536_n.jpg?_nc_cat=106&_nc_sid=8024bb&_nc_ohc=XZ3N-vVt-jQAX-4a2ot&_nc_ht=scontent-xsp1-2.xx&oh=bdbf0f608b96a20ccbe756a30c957ed6&oe=5EBFBBD5\", width=900, height=300))"
   ]
  },
  {
   "cell_type": "code",
   "execution_count": 35,
   "metadata": {},
   "outputs": [
    {
     "name": "stdout",
     "output_type": "stream",
     "text": [
      "<class 'int'>\n",
      "<class 'float'>\n",
      "<class 'NoneType'>\n",
      "<class 'str'>\n",
      "<class 'list'>\n",
      "<class 'tuple'>\n",
      "<class 'dict'>\n",
      "<class 'set'>\n",
      "<class 'bool'>\n",
      "<class '__main__.BigObject'>\n"
     ]
    }
   ],
   "source": [
    "print(type(5))\n",
    "print(type(0.8))\n",
    "print(type(None))\n",
    "print(type(\"hi\"))\n",
    "print(type([1,2]))\n",
    "print(type((1,2)))\n",
    "print(type({\"dfg\":34}))\n",
    "print(type({1,2,3}))\n",
    "print(type(True))\n",
    "\n",
    "print(type(obj1))"
   ]
  },
  {
   "cell_type": "code",
   "execution_count": 66,
   "metadata": {},
   "outputs": [
    {
     "name": "stdout",
     "output_type": "stream",
     "text": [
      "sda\n",
      "20\n",
      "run\n",
      "done\n",
      "50\n"
     ]
    }
   ],
   "source": [
    "class PlayerCharacter :  \n",
    "    def __init__(self,name,age) : \n",
    "        \"\"\"\"\n",
    "          __init__ automattically called instantiate method \n",
    "          instantiate method means we're calling the class to create an object\n",
    "           \n",
    "        \"\"\"\n",
    "        self.name = name  #attributes\n",
    "        self.age = age\n",
    "        \n",
    "        \n",
    "    def run(self) :\n",
    "        print(\"run\")                                    \n",
    "        return \"done\"\n",
    "    \n",
    "player1 = PlayerCharacter(\"sda\",20)\n",
    "player1.attack =50\n",
    "print(player1.name)\n",
    "print(player1.age)\n",
    "print(player1.run())\n",
    "print(player1.attack)"
   ]
  },
  {
   "cell_type": "code",
   "execution_count": 69,
   "metadata": {},
   "outputs": [
    {
     "name": "stdout",
     "output_type": "stream",
     "text": [
      "sda\n",
      "20\n",
      "run\n",
      "done\n",
      "50\n",
      "True\n"
     ]
    }
   ],
   "source": [
    "class PlayerCharacter : \n",
    "    # Class Object Attribute\n",
    "    membership = True\n",
    "    def __init__(self,name,age) : \n",
    "        self.name = name  #attributes\n",
    "        self.age = age\n",
    "        \n",
    "        \n",
    "    def run(self) :\n",
    "        print(\"run\")                                    \n",
    "        return \"done\"\n",
    "    \n",
    "player1 = PlayerCharacter(\"sda\",20)\n",
    "player1.attack =50\n",
    "print(player1.name)\n",
    "print(player1.age)\n",
    "print(player1.run())\n",
    "print(player1.attack)\n",
    "print(player1.membership)"
   ]
  },
  {
   "cell_type": "code",
   "execution_count": 6,
   "metadata": {},
   "outputs": [
    {
     "name": "stdout",
     "output_type": "stream",
     "text": [
      "hi sda\n",
      "None\n",
      "hisd werte\n"
     ]
    }
   ],
   "source": [
    "class PlayerCharacter : \n",
    "    # Class Object Attribute\n",
    "    membership = True\n",
    "    def __init__(self,name,age) : \n",
    "        if (self.membership):\n",
    "            self.name = name  #attributes\n",
    "            self.age = age\n",
    "        \n",
    "        \n",
    "    def shout(self) :\n",
    "          print(f\"hi {self.name}\")  \n",
    "            \n",
    "\n",
    "    def shouts(self) :\n",
    "        print(f\"hisd {self.name}\")  \n",
    "        \n",
    "        \n",
    "player1 = PlayerCharacter(\"sda\",20)\n",
    "player2 = PlayerCharacter(\"werte\",40)\n",
    "\n",
    "print(player1.shout())\n",
    "player2.shouts()"
   ]
  },
  {
   "cell_type": "code",
   "execution_count": null,
   "metadata": {},
   "outputs": [],
   "source": [
    "class NameOfClass():\n",
    "    class_attribute = \"value\"\n",
    "    def __init__(self,param1,param2):\n",
    "        self.param1 = param1\n",
    "        self.param2 = param2\n",
    "        \n",
    "    def method(self):\n",
    "        #code\n",
    "    \n",
    "    @classmethod\n",
    "    def cls_method(cls,param1,param2):\n",
    "        #code\n",
    "    \n",
    "    @staticmethod\n",
    "    def static_method(param1,param2):\n",
    "        #code"
   ]
  },
  {
   "cell_type": "markdown",
   "metadata": {},
   "source": [
    "## Four pillars of OOP\n",
    "### 1. Encapsulation : It means binding of data and functions that manipulate that data \n",
    "### we able to Encapsulate the functionality over PlayerCharacter by name and age data (or) attribute and functions (or) methods\n",
    "### 2. Abstraction : It calls only useful functions\n",
    "  "
   ]
  },
  {
   "cell_type": "markdown",
   "metadata": {},
   "source": [
    "## 3. Inheritance "
   ]
  },
  {
   "cell_type": "code",
   "execution_count": 96,
   "metadata": {},
   "outputs": [
    {
     "name": "stdout",
     "output_type": "stream",
     "text": [
      "Simon is just walking around\n",
      "Sally is just walking around\n",
      "Suzy is just walking around\n"
     ]
    }
   ],
   "source": [
    "class Pets():\n",
    "    def __init__(self,animal):\n",
    "        self.animals = animals\n",
    "\n",
    "    def walk(self):\n",
    "        for animal in self.animals:\n",
    "             print(animal.walk())\n",
    "\n",
    "class Cat():\n",
    "    is_lazy = True\n",
    "\n",
    "    def __init__(self, name, age):\n",
    "        self.name = name\n",
    "        self.age = age\n",
    "\n",
    "    def walk(self):\n",
    "        return f'{self.name} is just walking around'\n",
    "\n",
    "class Simon(Cat):\n",
    "    def sing(self, sounds):\n",
    "        return f'{sounds}'\n",
    "\n",
    "class Sally(Cat):\n",
    "    def sing(self, sounds):\n",
    "        return f'{sounds}'\n",
    "\n",
    "#1 Add nother Cat\n",
    "class Suzy(Cat):\n",
    "    def sing(self, sounds):\n",
    "        return f'{sounds}'\n",
    "\n",
    "#2 Create a list of all of the pets (create 3 cat instances from the above)\n",
    "my_pets = [Simon('Simon', 4), Sally('Sally', 21), Suzy('Suzy', 1)]\n",
    "\n",
    "#3 Instantiate the Pet class with all your cats\n",
    "my_pets = Pets(my_pets)\n",
    "\n",
    "#4 Output all of the cats singing using the my_pets instance\n",
    "my_pets.walk()"
   ]
  },
  {
   "cell_type": "code",
   "execution_count": 97,
   "metadata": {},
   "outputs": [
    {
     "name": "stdout",
     "output_type": "stream",
     "text": [
      "True\n",
      "logged in\n",
      "attacking with arrows by ram with arrows 39238405\n"
     ]
    }
   ],
   "source": [
    "class User():\n",
    "    def sign_in(self):\n",
    "        print(\"logged in\")\n",
    "        \n",
    "        \n",
    "class Wizard(User):\n",
    "    def __init__(self,name,power):\n",
    "        self.name = name\n",
    "        self.power = power\n",
    "    def attack(self):\n",
    "        print(f\"attacking with arrows by {self.name} with power {self.power}\")\n",
    "        \n",
    "        \n",
    "\n",
    "class Archer(User):\n",
    "    def __init__(self,name,num_arrows):\n",
    "        self.name = name\n",
    "        self.num_arrows = num_arrows\n",
    "    def attack(self):\n",
    "        print(f\"attacking with arrows by {self.name} with arrows {self.num_arrows}\")\n",
    "\n",
    "        \n",
    "        \n",
    "wizard1 =Wizard(\"fizal\",3245)\n",
    "wizard2 =Archer(\"ram\",39238405)\n",
    "print(isinstance(wizard1,User))\n",
    "wizard1.sign_in()\n",
    "wizard2.attack()"
   ]
  },
  {
   "cell_type": "markdown",
   "metadata": {},
   "source": [
    "## 4. Polymorphism\n",
    "### poly means Many    and   morphism means forms\n",
    "### The idea of polymorphism refers to the way which object classes can share the same method names but those method names can act differently based on what object calls ."
   ]
  },
  {
   "cell_type": "code",
   "execution_count": 236,
   "metadata": {},
   "outputs": [
    {
     "name": "stdout",
     "output_type": "stream",
     "text": [
      "nothing!!\n",
      "attacking with arrows by fizal with power 3245\n",
      "attacking with arrows by ram with arrows 39238405\n",
      "\n",
      "\n",
      "nothing!!\n",
      "attacking with arrows by fizal with power 3245\n",
      "attacking with arrows by ram with arrows 39238405\n"
     ]
    }
   ],
   "source": [
    "class User():\n",
    "    def sign_in(self):\n",
    "        print(\"logged in\")\n",
    "    \n",
    "    def attack(self):\n",
    "        print(\"nothing!!\")\n",
    "        \n",
    "class Wizard(User):\n",
    "    def __init__(self,name,power):\n",
    "        self.name = name\n",
    "        self.power = power\n",
    "    def attack(self):\n",
    "        User.attack(self)\n",
    "        print(f\"attacking with arrows by {self.name} with power {self.power}\")\n",
    "        \n",
    "        \n",
    "\n",
    "class Archer(User):\n",
    "    def __init__(self,name,num_arrows):\n",
    "        self.name = name\n",
    "        self.num_arrows = num_arrows\n",
    "    def attack(self):\n",
    "        print(f\"attacking with arrows by {self.name} with arrows {self.num_arrows}\")\n",
    "\n",
    "        \n",
    "wizard1 =Wizard(\"fizal\",3245)\n",
    "archer1 =Archer(\"ram\",39238405)\n",
    "\n",
    "def player_attack(char):\n",
    "    char.attack()\n",
    "player_attack(wizard1)\n",
    "player_attack(archer1)\n",
    "print(\"\\n\")\n",
    "for char in [wizard1,archer1]:\n",
    "    char.attack()       \n"
   ]
  },
  {
   "cell_type": "markdown",
   "metadata": {},
   "source": [
    "## Topic Super()"
   ]
  },
  {
   "cell_type": "code",
   "execution_count": 106,
   "metadata": {},
   "outputs": [
    {
     "name": "stdout",
     "output_type": "stream",
     "text": [
      "lokeshpara@gmail.com\n"
     ]
    }
   ],
   "source": [
    "class User():\n",
    "    def __init__(self,email):\n",
    "        self.email = email\n",
    "    \n",
    "    def sign_in(self):\n",
    "        print(\"logged in\")\n",
    "        \n",
    "        \n",
    "class Wizard(User):\n",
    "    def __init__(self,name,power,email):\n",
    "        User.__init__(self,email)\n",
    "        self.name = name\n",
    "        self.power = power\n",
    "    def attack(self):\n",
    "        print(f\"attacking with arrows by {self.name} with power {self.power}\")\n",
    "        \n",
    "\n",
    "wizard1 = Wizard(\"lokesh\",345678,\"lokeshpara@gmail.com\")\n",
    "print(wizard1.email)"
   ]
  },
  {
   "cell_type": "markdown",
   "metadata": {},
   "source": [
    "#                                    (  OR  )  By using super()"
   ]
  },
  {
   "cell_type": "code",
   "execution_count": 119,
   "metadata": {},
   "outputs": [
    {
     "name": "stdout",
     "output_type": "stream",
     "text": [
      "lokeshpara@gmail.com\n"
     ]
    }
   ],
   "source": [
    "class User():\n",
    "    def __init__(self,email):\n",
    "        self.email = email\n",
    "\n",
    "    \n",
    "    def sign_in(self):\n",
    "        print(\"logged in\")\n",
    "        \n",
    "        \n",
    "class Wizard(User):\n",
    "    def __init__(self,name,power,email):\n",
    "        super().__init__(email)\n",
    "        self.name = name\n",
    "        self.power = power\n",
    "    def attack(self):\n",
    "        print(f\"attacking with arrows by {self.name} with power{self.power}\")\n",
    "        \n",
    "\n",
    "wizard1 = Wizard(\"lokesh\",345678,\"lokeshpara@gmail.com\")\n",
    "print(wizard1.email)"
   ]
  },
  {
   "cell_type": "code",
   "execution_count": 142,
   "metadata": {},
   "outputs": [
    {
     "name": "stdout",
     "output_type": "stream",
     "text": [
      "the details of lokesh's age is 20 and class was  b \n"
     ]
    }
   ],
   "source": [
    "class Friend():\n",
    "    def __init__(self,name,age,section):\n",
    "        self.name = name\n",
    "        self.age = age\n",
    "        self.section  = section\n",
    "\n",
    "class details(Friend):\n",
    "    def __init__(self,name,age,section):\n",
    "        super().__init__(name,age,section)\n",
    "        \n",
    "    def kind(self):\n",
    "        print(f\"the details of {self.name}'s age is {self.age} and class was  {self.section} \")\n",
    "    \n",
    "details1 = details(\"lokesh\",20,\"b\")\n",
    "details1.kind()"
   ]
  },
  {
   "cell_type": "markdown",
   "metadata": {},
   "source": [
    "## Object Introspection\n",
    "### It is helps to list out avaliable functions in a class\n",
    "### function : dir()"
   ]
  },
  {
   "cell_type": "code",
   "execution_count": 149,
   "metadata": {},
   "outputs": [
    {
     "data": {
      "text/plain": [
       "['__class__',\n",
       " '__delattr__',\n",
       " '__dict__',\n",
       " '__dir__',\n",
       " '__doc__',\n",
       " '__eq__',\n",
       " '__format__',\n",
       " '__ge__',\n",
       " '__getattribute__',\n",
       " '__gt__',\n",
       " '__hash__',\n",
       " '__init__',\n",
       " '__init_subclass__',\n",
       " '__le__',\n",
       " '__lt__',\n",
       " '__module__',\n",
       " '__ne__',\n",
       " '__new__',\n",
       " '__reduce__',\n",
       " '__reduce_ex__',\n",
       " '__repr__',\n",
       " '__setattr__',\n",
       " '__sizeof__',\n",
       " '__str__',\n",
       " '__subclasshook__',\n",
       " '__weakref__',\n",
       " 'age',\n",
       " 'kind',\n",
       " 'name',\n",
       " 'section']"
      ]
     },
     "execution_count": 149,
     "metadata": {},
     "output_type": "execute_result"
    }
   ],
   "source": [
    "dir(details1)"
   ]
  },
  {
   "cell_type": "markdown",
   "metadata": {},
   "source": [
    "## Dunder (or) magic methods\n",
    "### https://docs.python.org/3/reference/datamodel.html"
   ]
  },
  {
   "cell_type": "code",
   "execution_count": 188,
   "metadata": {},
   "outputs": [
    {
     "name": "stdout",
     "output_type": "stream",
     "text": [
      "deleted\n",
      "Hii ram!\n",
      "Hii ram!\n",
      "action\n",
      "100\n",
      "100\n",
      "called!\n",
      "krish\n"
     ]
    }
   ],
   "source": [
    "class Toy():\n",
    "    def __init__(self,name,age):\n",
    "        self.name = name\n",
    "        self.age = age \n",
    "        self.my_dict = {\n",
    "            \"name\" : \"krish\",\n",
    "            \"age\" : 20\n",
    "        }\n",
    "    def __str__(self):\n",
    "        return f\"Hii {self.name}!\"\n",
    "    \n",
    "    def __len__(self):\n",
    "        return 100\n",
    "    \n",
    "    def __del__(self):\n",
    "        print(\"deleted\")\n",
    "        \n",
    "    def __call__(self):\n",
    "        return (\"called!\")\n",
    "    \n",
    "    def __getitem__(self,i):\n",
    "        return self.my_dict[i]\n",
    "    \n",
    "action = Toy(\"ram\" , 20)\n",
    "\n",
    "print(action.__str__())\n",
    "print(str(action))\n",
    "print(str(\"action\"))\n",
    "print(action.__len__())\n",
    "print(len(action))\n",
    "#del action\n",
    "print(action())\n",
    "print(action[\"name\"])"
   ]
  },
  {
   "cell_type": "raw",
   "metadata": {},
   "source": [
    "# Question \n",
    "class SuperList():  \n",
    "    pass            # ned to write code that allows like list few index and length(u can modify) and append .\n",
    "super_list1 = SuperList()\n",
    "print(len(super_list1))\n",
    "super_list1.append(5)\n",
    "print(super_list1[0])"
   ]
  },
  {
   "cell_type": "code",
   "execution_count": 206,
   "metadata": {},
   "outputs": [
    {
     "name": "stdout",
     "output_type": "stream",
     "text": [
      "1000\n",
      "[5]\n",
      "5\n"
     ]
    }
   ],
   "source": [
    "class SuperList(list):  \n",
    "    def __len__(self):\n",
    "        return 1000\n",
    "    \n",
    "    \n",
    "super_list1 = SuperList()\n",
    "print(len(super_list1))\n",
    "super_list1.append(5)\n",
    "print(super_list1)\n",
    "print(super_list1[0])"
   ]
  },
  {
   "cell_type": "markdown",
   "metadata": {},
   "source": [
    "## Multiple Inheritance"
   ]
  },
  {
   "cell_type": "code",
   "execution_count": 215,
   "metadata": {},
   "outputs": [
    {
     "name": "stdout",
     "output_type": "stream",
     "text": [
      "attacking with arrows by wed with arrows 34\n",
      "None\n"
     ]
    }
   ],
   "source": [
    "class User():\n",
    "    def sign_in(self):\n",
    "        print(\"logged in\")\n",
    "        \n",
    "        \n",
    "class Wizard(User):\n",
    "    def __init__(self,name,power):\n",
    "        self.name = name\n",
    "        self.power = power\n",
    "    def attack(self):\n",
    "        print(f\"attacking with arrows by {self.name} with power {self.power}\")\n",
    "        \n",
    "        \n",
    "\n",
    "class Archer(User):\n",
    "    def __init__(self,name,num_arrows):\n",
    "        self.name = name\n",
    "        self.num_arrows = num_arrows\n",
    "    def attacks(self):\n",
    "        print(f\"attacking with arrows by {self.name} with arrows {self.num_arrows}\")\n",
    "    def run(self):\n",
    "        print(f\"Run fast\")\n",
    "\n",
    "class HybridBorg(Wizard,Archer):\n",
    "    def __init__(self,name,power,num_arrows):\n",
    "        Wizard.__init__(self,name,num_arrows)\n",
    "        Archer.__init__(self,name,num_arrows)\n",
    "        \n",
    "hd1 = HybridBorg(\"wed\",34,34)\n",
    "print(hd1.attacks())"
   ]
  },
  {
   "cell_type": "code",
   "execution_count": 217,
   "metadata": {},
   "outputs": [
    {
     "name": "stdout",
     "output_type": "stream",
     "text": [
      "True\n",
      "logged in\n",
      "attacking with arrows by ram with arrows 39238405\n"
     ]
    }
   ],
   "source": [
    "wizard1 =Wizard(\"fizal\",3245)\n",
    "wizard2 =Archer(\"ram\",39238405)\n",
    "print(isinstance(wizard1,User))\n",
    "wizard1.sign_in()\n",
    "wizard2.attacks()"
   ]
  },
  {
   "cell_type": "markdown",
   "metadata": {},
   "source": [
    "## MRO- Method Resolution Order"
   ]
  },
  {
   "cell_type": "raw",
   "metadata": {},
   "source": [
    "               A\n",
    "             /   \\\n",
    "            /     \\\n",
    "           B       C\n",
    "            \\     /\n",
    "             \\   /\n",
    "               D"
   ]
  },
  {
   "cell_type": "code",
   "execution_count": 227,
   "metadata": {},
   "outputs": [
    {
     "name": "stdout",
     "output_type": "stream",
     "text": [
      "1\n"
     ]
    },
    {
     "data": {
      "text/plain": [
       "[__main__.D, __main__.B, __main__.C, __main__.A, object]"
      ]
     },
     "execution_count": 227,
     "metadata": {},
     "output_type": "execute_result"
    }
   ],
   "source": [
    "class A:\n",
    "    num =10\n",
    "\n",
    "class B(A):\n",
    "    pass\n",
    "\n",
    "class C(A):\n",
    "    num =1\n",
    "    \n",
    "class D(B,C):\n",
    "    pass\n",
    "\n",
    "print(D.num)\n",
    "D.mro()"
   ]
  },
  {
   "cell_type": "code",
   "execution_count": 226,
   "metadata": {},
   "outputs": [
    {
     "data": {
      "text/plain": [
       "[__main__.M,\n",
       " __main__.B,\n",
       " __main__.A,\n",
       " __main__.X,\n",
       " __main__.Y,\n",
       " __main__.Z,\n",
       " object]"
      ]
     },
     "execution_count": 226,
     "metadata": {},
     "output_type": "execute_result"
    }
   ],
   "source": [
    "class X:pass\n",
    "class Y: pass\n",
    "class Z:pass\n",
    "class A(X,Y):pass\n",
    "class B(Y,Z):pass\n",
    "class M(B,A,Z):pass\n",
    "M.mro()"
   ]
  },
  {
   "cell_type": "code",
   "execution_count": 225,
   "metadata": {},
   "outputs": [
    {
     "data": {
      "text/html": [
       "<img src=\"https://scontent-xsp1-1.xx.fbcdn.net/v/t1.0-9/93845680_1016342215426128_6919867280851468288_n.jpg?_nc_cat=108&_nc_sid=8024bb&_nc_ohc=WR2GDJqXxioAX-49XmB&_nc_ht=scontent-xsp1-1.xx&oh=420d3db1fd601de47c47ef17957aac2b&oe=5EC090E6\" width=\"900\" height=\"300\"/>"
      ],
      "text/plain": [
       "<IPython.core.display.Image object>"
      ]
     },
     "metadata": {},
     "output_type": "display_data"
    }
   ],
   "source": [
    "from IPython.core.display import Image, display\n",
    "display(Image(url= \"https://scontent-xsp1-1.xx.fbcdn.net/v/t1.0-9/93845680_1016342215426128_6919867280851468288_n.jpg?_nc_cat=108&_nc_sid=8024bb&_nc_ohc=WR2GDJqXxioAX-49XmB&_nc_ht=scontent-xsp1-1.xx&oh=420d3db1fd601de47c47ef17957aac2b&oe=5EC090E6\", width=900, height=300))"
   ]
  }
 ],
 "metadata": {
  "kernelspec": {
   "display_name": "Python 3",
   "language": "python",
   "name": "python3"
  },
  "language_info": {
   "codemirror_mode": {
    "name": "ipython",
    "version": 3
   },
   "file_extension": ".py",
   "mimetype": "text/x-python",
   "name": "python",
   "nbconvert_exporter": "python",
   "pygments_lexer": "ipython3",
   "version": "3.7.6"
  }
 },
 "nbformat": 4,
 "nbformat_minor": 4
}
